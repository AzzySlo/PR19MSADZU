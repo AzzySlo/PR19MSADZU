{
 "cells": [
  {
   "cell_type": "markdown",
   "metadata": {},
   "source": [
    "# ANALIZA GENOV - KARAKTERIZACIJA GLEDE NA EKSPRESIJO"
   ]
  },
  {
   "cell_type": "markdown",
   "metadata": {},
   "source": [
    "**IMPORT**"
   ]
  },
  {
   "cell_type": "code",
   "execution_count": 11,
   "metadata": {
    "collapsed": true
   },
   "outputs": [],
   "source": [
    "import numpy as np\n",
    "np.set_printoptions(suppress=True)\n",
    "from csv import DictReader\n",
    "\n",
    "import matplotlib\n",
    "import matplotlib.pyplot as plt"
   ]
  },
  {
   "cell_type": "markdown",
   "metadata": {},
   "source": [
    "**UVAŽANJE PODATKOV**"
   ]
  },
  {
   "cell_type": "code",
   "execution_count": 2,
   "metadata": {
    "collapsed": true
   },
   "outputs": [],
   "source": [
    "fp = open(\"testfile.csv\", \"rt\")\n",
    "reader = DictReader(fp)\n",
    "\n",
    "data_stat = dict()\n",
    "\n",
    "for row in reader:\n",
    "    data_stat[row[\"gene name\"]] = [float(row[\"max\"]),float(row[\"min\"]),float(row[\"std diviacija\"]),float(row[\"mediana\"])]"
   ]
  },
  {
   "cell_type": "markdown",
   "metadata": {},
   "source": [
    "**PREGLED Genov: Histogram min, max, std, mediana**"
   ]
  },
  {
   "cell_type": "code",
   "execution_count": 3,
   "metadata": {
    "collapsed": true
   },
   "outputs": [],
   "source": [
    "#Podatki iz eksperimentalnih virov\n",
    "house = [\"RRN18S\", \"ACTB\", \"GAPDH\", \"PGK1\", \"PPIA\", \"RPL13A\", \"RPLP0\", \"ARBP\", \"B2M\", \"YWHAZ\", \"SDHA\", \"TFRC\", \"GUSB\", \"HMBS\", \"HPRT1\", \"TBP\"]\n",
    "spec = []"
   ]
  },
  {
   "cell_type": "code",
   "execution_count": 4,
   "metadata": {},
   "outputs": [
    {
     "name": "stdout",
     "output_type": "stream",
     "text": [
      "[[  157.4            3.            34.22625936    30.8       ]\n",
      " [  248.9           10.5           47.78830234    59.2       ]\n",
      " [ 7221.8           85.8         1430.083599    1998.5       ]\n",
      " [ 2860.7          476.7          629.5796256   1217.        ]\n",
      " [  118.2            5.9           23.92507296    67.8       ]\n",
      " [ 9869.6          112.6         1523.1438      1358.3       ]\n",
      " [   61.8            1.5            9.077587      10.3       ]\n",
      " [ 4609.7          499.7          804.6568784   1525.9       ]\n",
      " [  925.            25.6          172.7646542    370.5       ]\n",
      " [  139.1            4.5           23.24530286    24.5       ]\n",
      " [ 5119.8           40.8         1134.339125    1346.9       ]\n",
      " [   95.9            2.7           17.0458446     31.7       ]\n",
      " [ 1679.8           51.           366.5608948    943.6       ]\n",
      " [   52.8            1.1            7.92429114     5.3       ]]\n"
     ]
    }
   ],
   "source": [
    "data_stat_graph = np.empty((0,4), dtype = float)\n",
    "data_stat_graph_house = np.empty((0,4), dtype = float)\n",
    "data_stat_graph_spec = np.empty((0,4), dtype = float)\n",
    "\n",
    "for key, value in data_stat.items():\n",
    "    data_stat_graph = np.vstack((data_stat_graph, np.array(value)))\n",
    "    \n",
    "for key, value in data_stat.items():\n",
    "    if key in house:\n",
    "        data_stat_graph_house = np.vstack((data_stat_graph_house, np.array(value)))\n",
    "        \n",
    "for key, value in data_stat.items():\n",
    "    if key in spec:\n",
    "        data_stat_graph_spec = np.vstack((data_stat_graph_spec, np.array(value)))\n",
    "        \n",
    "print(data_stat_graph_house)"
   ]
  },
  {
   "cell_type": "code",
   "execution_count": 5,
   "metadata": {},
   "outputs": [
    {
     "data": {
      "text/plain": [
       "Text(0.5,1,'MEDIANA ekspresija')"
      ]
     },
     "execution_count": 5,
     "metadata": {},
     "output_type": "execute_result"
    }
   ],
   "source": [
    "fig, axes = plt.subplots(1,4, figsize = (15,5))\n",
    "\n",
    "#axes[0].hist(data_stat_graph[:, 0], bins=500)\n",
    "axes[0].hist(data_stat_graph_house[:, 0], bins  = 50)\n",
    "axes[0].axis([0, 10000, 0, 5])\n",
    "axes[0].set_title(\"Max ekspresija\")\n",
    "\n",
    "axes[1].hist(data_stat_graph[:, 1], bins=50)\n",
    "axes[1].axis([0, 10000, 0, 5])\n",
    "axes[1].set_title(\"Min ekspresija\")\n",
    "\n",
    "axes[2].hist(data_stat_graph[:, 2], bins=500)\n",
    "axes[2].axis([1, 500, 0, 5])\n",
    "axes[2].set_title(\"STD ekspresija\")\n",
    "\n",
    "axes[3].hist(data_stat_graph[:, 3], bins=500)\n",
    "axes[3].axis([1, 500, 0, 5])\n",
    "axes[3].set_title(\"MEDIANA ekspresija\")"
   ]
  },
  {
   "cell_type": "code",
   "execution_count": null,
   "metadata": {
    "collapsed": true
   },
   "outputs": [],
   "source": []
  }
 ],
 "metadata": {
  "kernelspec": {
   "display_name": "Python 3",
   "language": "python",
   "name": "python3"
  },
  "language_info": {
   "codemirror_mode": {
    "name": "ipython",
    "version": 3
   },
   "file_extension": ".py",
   "mimetype": "text/x-python",
   "name": "python",
   "nbconvert_exporter": "python",
   "pygments_lexer": "ipython3",
   "version": "3.6.3"
  }
 },
 "nbformat": 4,
 "nbformat_minor": 2
}
