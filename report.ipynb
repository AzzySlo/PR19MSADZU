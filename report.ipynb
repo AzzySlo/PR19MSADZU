{
 "cells": [
  {
   "cell_type": "markdown",
   "metadata": {},
   "source": [
    "# Primerjava genskih ekspresijskih profilov pri pljučnem raku #\n",
    "\n",
    "## OPIS NALOGE ##\n",
    "Telo je sestavljeno iz različnih tkiv, ki sestavljajo organe in celoten organizem. Tkiva so sestavljena iz posameznih celic, ki opravljajo svojo funkcijo znotraj tkiva. Vse celice enakega organizma imajo enak dedni zapis v obliki dvojne vijačnice DNA. Na njej so zapisani vsi geni organizma, a se v vsakem tkivu ne izražajo vsi. Izražanje gena pomeni prepis genskega zapisa iz DNA v mRNA, čemur rečemo transkripcija. V procesu transkripcije nastane enojna vijačnica mRNA (transkript), ki nosi zapis za aminokislinsko zaporedje proteina. Na mRNA se veže ribosom, ki izvede sintezo proteina, ki je na transkriptu zapisan. Proteini so komponente celic, ki opravljajo večino funkcij v njej (prenos energije, metabolizem, signalne poti, transport, struktura, kataliza reakcij, podvojevanje, ..). \n",
    "\n",
    "Koncentracija posameznih proteinov v celici je pomembna za njeno delovanje, vendar je merjenje le-teh težavna. Koncentracijo lahko izmerimo posredno, preko koncentracije transkriptov v celici, ki je sorazmerna s koncentracijo proteinov. Izražamo jo kot število detektiranih transkriptov na milijon transkriptov (TPM – transcript per million). Ob odvzemu tkiva lahko z analizo določimo ekspresijo transkriptov za vse gene in to imenujemo ekspresijski profil.\n",
    "\n",
    "Ekspresijski profil tkiva se poruši ob stresnih stanjih za tkivo, kot so na primer bolezni in rakava obolenja. Nekateri geni se značilno izražajo v rakavih tkivih, drugi pa se izražajo kot posledica stanja v celici ali izražanja gena, ki se nahaja blizu na kromosomu. \n",
    "\n",
    "Za analizo smo si izbrali rakava obolenja pljučnih tkiv, saj je v zadnjih letih povečana incidenca pljučnega raka, zaradi kancerogenost cigaretnega dima. Naš namen je poiskati prekomerno izražene gene v rakavem tkivu ter gene, ki se z njimi izražajo obratno (supresija ekspresije). Z aktivacijo izražanja teh genov, bi lahko zmanjšali izražaje ključnih genov za napredovanje raka in s tem zaustavili napredovanje."
   ]
  },
  {
   "cell_type": "markdown",
   "metadata": {},
   "source": [
    "\n",
    "## OPIS PODATKOV ##\n",
    "Organizem: Homo sapiens (Človek)\n",
    "\n",
    "Za analizo normalnih (zdravih) tkiv smo uporabili podatke iz baze podatkov Protein Atlas. Zbrane so tkivne ekspresije 37 človeških tkiv, vrednosti za vsak gen pa so povprečne vrednosti izražanja (enote TPM). Opisanih transkriptov je 19600. To so glavni podatki, ki jih uporabljamo za analizo genov, zato je večina opisanih metod izvedena na tem setu podatkov. [datoteka: rna_tissue.csv]\n",
    "\n",
    "Pri izražanju genov je pomembna tudi njihova medsebojna lokacija na kromosomu. Za analizo lokacij smo uporabili podatke o lokacijah genov na DNA. Ob izražanju enega gena, se lahko izraža sosednji gen kot posledica bližine na kromosomu. [datoteka: HumanChromoLocation.csv]\n",
    "\n",
    "\n",
    "Poglaviten del podatkov so predstavljale genske ekspresije rakavih tkiv 199 pacientov in 19 kontrolnih posameznikov. Poleg ekspresijskih profilov so bili priloženi podatki o starosti, spolu in kajenju (kadilec, nekadilec, prenehal kaditi). \n",
    "\n",
    "![pic](ProjektSlike/slika10.png)\n"
   ]
  },
  {
   "attachments": {},
   "cell_type": "markdown",
   "metadata": {},
   "source": [
    "## IZVEDENE ANALIZE\n",
    "\n",
    "####  1.\tDoločevanje tkivne specifičnosti ####\n",
    "Merilo za tkivno specifičnost je v molekularni biologiji postavljeno grobo in empirično, za vsak gen posebej. Želeli smo ovrednotiti tkivno specifičnost transkriptov glede na njihovo izražanje v vseh tkivih in to vrednost poimenovali vrednost tkivne specifičnosti gena (VTSG). Izkazalo se je, da delež izražanja najbolje opiše normalizacija ekspresijskih vrednosti glede na izražanje v tkivu z maksimalnim izražanjem transkripta. Za izračun srednje vrednosti, ki najbolje opiše realno stanje, smo uporabili studentovo porazdelitev. Za primer sta navedena gena INS (gen za inzulin, tkivno specifičen) in SDHA (gen za sukcinat dehidrogenazo, hišni gen).\n",
    "\n",
    "![pic](ProjektSlike/slika2.png)\n",
    "\n",
    "Slika2: (Levo) Histogram porazdelitve normaliziranih vrednosti ekspresije za transkripta INS in SDHA; (desno) studentova porazdelitev z uporabo podatkov o normalizirani ekspresiji INS in SDHA.\n",
    "\n",
    "Za VTSG vrednost transkripta smo določili koren ničle odvoda studentove porazdelitve. Ničlo odvoda smo korenili zato, da smo dobili večje razlike med vrednostmi bližje ničli, kjer se nahaja večina tkivno specifičnih transkriptov. \n",
    "\n",
    "Na podlagi VTSG vrednosti smo transkripte razvrstili v 16 razredov (od 0 do 15) in sicer tako, da smo VTSG vrednost delili s faktorjem 0.05 in vrednost zaokrožili navzdol. V kolikor je vrednost presegala 15, smo transkript umestili v razred 15.\n",
    "\n",
    "![pic](ProjektSlike/slika3.png)\n",
    "\n",
    "Slika3: Moč razredov transkriptov po porazdelitvi glede na VTSG.\n",
    "Za nadaljnje analize smo uporabljali le razrede od 5 naprej.\n",
    " \n",
    "####  2.\tAnaliza povezav med položajem na kromosomu in skupno ekspresijo ####\n",
    "Podatke o položajih smo pretvorili v dostopne podatke za izvajanje analiz. Pripravili smo funkcije, ki povejo razdalje med geni in medsebojno lokacijo.\n",
    "\n",
    "Analizo o pomenu položaja na kromosomu bomo izvedli, ko bodo znane povezave med izražanjem kromosomov.\n",
    "\n",
    "####  3.\tAnaliza ekspresije genov glede na starost pacienta\n",
    "Izvedli smo analizo glede na tri različne starostne skupine in sicer 50-60 let, 60-70 in 70-80 let.\n",
    "\n",
    "Primerjali smo ekspresije genov, ki so najbolj odstopali normalnih vrednosti kontrolnega tkiva. Analiza je pokazala, da se v zgodnjih letih 50-60 pojavljajo neravnovesja v določenih genih, ne pa v vseh. Neravnovesje nastane na račun prekomerjnega izražanje ključnih genov, medtem ko pri starejših pacientih ekspresija večine genov postane povišana oz. se ravnovesje celotne celične homeostaze poruši.\n",
    "\n",
    "![pic](ProjektSlike/slika9.png)\n",
    "\n",
    "####  4.    Analiza ekspresije genov pri ženskah in moških\n",
    "Kljub razlikam moških in žensk se v ekspresiji genov pri pljučnem raku se spola ne razlikujeta signifikantno. Razlike so bile opažene zaradi majhnega vzorca pacientov.\n",
    "\n",
    "\n",
    "####  5.    Analiza ekspresije genov pri kadilcih, nekadilcih in bivših kadilcih\n",
    "Primerjali smo genske ekspresijske profile kadilcev, nekadilcev in bivših kadilcev med seboj. Signifikantnih razlik ni bilo opaziti. Razlog je v dveh različnih oblikah raka. Razlike med genskimi ekspresijami so se razlikovale manj od pričakovanja.\n",
    "\n",
    "####  6.   Analiza različnih oblik raka\n",
    "Ob analizi gručenja tumorskih ekspresijskih profilov sta nastali dve definirani gruči in nekaj primerov, ki so ležali izven niju. Obliki raka smo poimenovali **RAK 1** in **RAK 2**. Izvedli smo primerjavo ekspresij in oseb, ki imajo te obliki raka.\n",
    "\n",
    "![pic](ProjektSlike/slika5.png)\n",
    "\n"
   ]
  },
  {
   "cell_type": "markdown",
   "metadata": {
    "collapsed": true
   },
   "source": [
    "## NAJZANIMIVEJŠI REZULTATI\n"
   ]
  },
  {
   "cell_type": "markdown",
   "metadata": {},
   "source": [
    "**DVE OBLIKI RAKA**\n",
    "\n",
    "**RAK 1 kontrolirano neravnovesje tkiva**\n",
    "\n",
    "**RAK 2 hiperekspresija določenih genov ustvarja neravnovesje v tkivu**"
   ]
  },
  {
   "cell_type": "markdown",
   "metadata": {},
   "source": [
    "![pic](ProjektSlike/slika11.png)"
   ]
  },
  {
   "cell_type": "markdown",
   "metadata": {},
   "source": [
    "** KAJENJE VPLIVA NA RAZVOJ PLJUČNEGA RAKA 2, NA RAK 1 NIMA SIGNIFIKANTNEGA VPLIVA**\n",
    "\n",
    "![pic](ProjektSlike/slika6.png)\n",
    "\n",
    "Pljučni rak 2 se razvoje primarno pri kadilcih, medtem ko na obliko pljučnega raka 1 kajenje ne vpliva."
   ]
  },
  {
   "cell_type": "markdown",
   "metadata": {},
   "source": [
    "** NA RAZVOJ OBEH OBLIK RAKA VPLIVAJO LETA ENAKO**\n",
    "\n",
    "![pic](ProjektSlike/slika7.png)\n",
    "\n",
    "Z leti se incidenca rakov povečuje. "
   ]
  },
  {
   "cell_type": "markdown",
   "metadata": {},
   "source": [
    "** OBLIKI RAKA PRI OBEH SPOLIH NISTA ZASTOPANA ENAKO**\n",
    "\n",
    "![pic](ProjektSlike/slika8.png)\n",
    "\n",
    "Predispozicijo za obliko pljučnega raka 1 imajo ženske večjo, a to tezo bi lahko z večjim vzorcem pacientov zavrgli."
   ]
  },
  {
   "cell_type": "markdown",
   "metadata": {},
   "source": [
    "## POVZETEK\n"
   ]
  },
  {
   "cell_type": "markdown",
   "metadata": {},
   "source": [
    "**TRI KLJUČNE UGOTOVITVE:**\n",
    "- OBSTAJATA DVE RAZLIČICI PLJUČNEGA RAKA (1 in 2)\n",
    "- KAJENJE POVEČUJE MOŽNOSTI TVORBE PLJUČNEGA RAKA TIPA 2\n",
    "- PRENEHANJE KAJENJA NE ZMANJŠUJE INCIDENCE PLJUČNEGA RAKA"
   ]
  }
 ],
 "metadata": {
  "kernelspec": {
   "display_name": "Python 3",
   "language": "python",
   "name": "python3"
  },
  "language_info": {
   "codemirror_mode": {
    "name": "ipython",
    "version": 3
   },
   "file_extension": ".py",
   "mimetype": "text/x-python",
   "name": "python",
   "nbconvert_exporter": "python",
   "pygments_lexer": "ipython3",
   "version": "3.6.3"
  }
 },
 "nbformat": 4,
 "nbformat_minor": 2
}
